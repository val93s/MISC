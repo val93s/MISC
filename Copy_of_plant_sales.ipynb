{
  "nbformat": 4,
  "nbformat_minor": 5,
  "metadata": {
    "kernelspec": {
      "display_name": "Python 3",
      "language": "python",
      "name": "python3"
    },
    "language_info": {
      "codemirror_mode": {
        "name": "ipython",
        "version": 3
      },
      "file_extension": ".py",
      "mimetype": "text/x-python",
      "name": "python",
      "nbconvert_exporter": "python",
      "pygments_lexer": "ipython3",
      "version": "3.8.8"
    },
    "colab": {
      "provenance": [],
      "include_colab_link": true
    }
  },
  "cells": [
    {
      "cell_type": "markdown",
      "metadata": {
        "id": "view-in-github",
        "colab_type": "text"
      },
      "source": [
        "<a href=\"https://colab.research.google.com/github/val93s/MISC/blob/main/Copy_of_plant_sales.ipynb\" target=\"_parent\"><img src=\"https://colab.research.google.com/assets/colab-badge.svg\" alt=\"Open In Colab\"/></a>"
      ]
    },
    {
      "cell_type": "code",
      "metadata": {
        "colab": {
          "base_uri": "https://localhost:8080/"
        },
        "id": "0ab45e47",
        "outputId": "05fdee6d-f4ab-4bb7-dc13-b7749796724a"
      },
      "source": [
        "import pandas as pd\n",
        "\n",
        "# Data structure for plant purchases\n",
        "plant_purchases = {\n",
        "    'day': ['Monday', 'Tuesday', 'Wednesday', 'Thursday', 'Friday'],\n",
        "    'bamboos': [3, 5, 0, 1, 6], \n",
        "    'orchids': [0, 1, 7, 2, 2], \n",
        "    'mosses': [3, 2, 10, 5, 0],\n",
        "    'total_daily': [6, 8, 17, 8, 8]\n",
        "}\n",
        "\n",
        "# Getting total plant purchases for Friday\n",
        "friday_total_sold = {}\n",
        "for key in plant_purchases:\n",
        "    if key == 'total_daily':\n",
        "        friday_total_sold = [x for x in plant_purchases[key]]\n",
        "\n",
        "print('Total plants sold on Friday is', friday_total_sold[len(friday_total_sold) - 1]) \n",
        "print()\n",
        "\n",
        "sold = pd.DataFrame(plant_purchases)\n",
        "\n",
        "print(sold)"
      ],
      "id": "0ab45e47",
      "execution_count": null,
      "outputs": [
        {
          "output_type": "stream",
          "name": "stdout",
          "text": [
            "Total plants sold on Friday is 8\n",
            "\n",
            "         day  bamboos  orchids  mosses  total_daily\n",
            "0     Monday        3        0       3            6\n",
            "1    Tuesday        5        1       2            8\n",
            "2  Wednesday        0        7      10           17\n",
            "3   Thursday        1        2       5            8\n",
            "4     Friday        6        2       0            8\n"
          ]
        }
      ]
    },
    {
      "cell_type": "code",
      "metadata": {
        "id": "e92b4427",
        "colab": {
          "base_uri": "https://localhost:8080/"
        },
        "outputId": "577d9634-0966-42e2-82a0-6949f26d3a73"
      },
      "source": [
        "plant_purchases"
      ],
      "id": "e92b4427",
      "execution_count": null,
      "outputs": [
        {
          "output_type": "execute_result",
          "data": {
            "text/plain": [
              "{'bamboos': [3, 5, 0, 1, 6],\n",
              " 'day': ['Monday', 'Tuesday', 'Wednesday', 'Thursday', 'Friday'],\n",
              " 'mosses': [3, 2, 10, 5, 0],\n",
              " 'orchids': [0, 1, 7, 2, 2],\n",
              " 'total_daily': [6, 8, 17, 8, 8]}"
            ]
          },
          "metadata": {},
          "execution_count": 2
        }
      ]
    }
  ]
}