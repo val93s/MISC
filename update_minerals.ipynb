{
  "nbformat": 4,
  "nbformat_minor": 0,
  "metadata": {
    "colab": {
      "provenance": [],
      "include_colab_link": true
    },
    "kernelspec": {
      "name": "python3",
      "display_name": "Python 3"
    },
    "language_info": {
      "name": "python"
    }
  },
  "cells": [
    {
      "cell_type": "markdown",
      "metadata": {
        "id": "view-in-github",
        "colab_type": "text"
      },
      "source": [
        "<a href=\"https://colab.research.google.com/github/val93s/MISC/blob/main/update_minerals.ipynb\" target=\"_parent\"><img src=\"https://colab.research.google.com/assets/colab-badge.svg\" alt=\"Open In Colab\"/></a>"
      ]
    },
    {
      "cell_type": "markdown",
      "metadata": {
        "id": "ySW9_5QOr0_k"
      },
      "source": [
        "# The Meteorite Hunters\n",
        "**5.2.3 Activity**\n",
        "\n",
        "It’s year 2167 and Earth is recovering from an asteroid apocalypse. Several thousand massive asteroids demolished much of the Earth.\n",
        "\n",
        "<img src='https://drive.google.com/uc?id=1PMUBYEZkEQkWbPiKnFDVnyUTyXDIwGY_' width=300 align=right>\n",
        "\n",
        "To simply survive, you’ve joined one of the top meteorite hunting gangs called The Iron Hand in order to hunt for treasures for trade. You normally find iron-based meteorites which keep food on your table, but now and then a rare mineral appears that gives you enough to live on for a year. \n",
        "\n",
        "Today is that day! Your gang found traces of diamond in a group of meteorites near an alpine lake in the Cascade Mountains. \n",
        "\n",
        "As the gang’s data analyst, you are in charge of keeping records of your findings. Your scouts, who find the rocks, scribble their findings on scrap paper, so you have to transcribe it into a database. You also need to keep inventory records up to date with new incoming numbers and record the date you are making the update. \n"
      ]
    },
    {
      "cell_type": "markdown",
      "metadata": {
        "id": "cWe0AQcexLl7"
      },
      "source": [
        "### Transcribe and Create a Dictionary\n",
        "\n",
        "You will pull mineral names from the scribbles of your scout and create a new dictionary of items. Since you log the new findings each day, you’ll want to call this dictionary `monday_rocks`.\n",
        "\n",
        "1. Create a new, empty dictionary in code to initialize your notebook. Name the dictionary `monday_rocks`. Your new dictionary should look like this: `monday_rocks = {}`."
      ]
    },
    {
      "cell_type": "code",
      "metadata": {
        "id": "TsVYT3RxrsEb"
      },
      "source": [
        "# Create new dictionary here (on line 2)\n",
        "monday_rocks = {}\n"
      ],
      "execution_count": null,
      "outputs": []
    },
    {
      "cell_type": "markdown",
      "metadata": {
        "id": "8w5ysxnvx641"
      },
      "source": [
        "<img src='https://drive.google.com/uc?id=1POkt_YPZk4HI93MPEUNvHgg9xEcuw-Hv' width=300 align=right>\n",
        "\n",
        "2. The scouting crew had a rough day. They came across a bear in their way that soiled their collection materials, so the scout had to scrawl the mineral names on their T-shirt. Let's read the mineral names and amounts from the T-shirt and add them to our dictionary. <br><br>There are two ways to add to dictionaries in Python: You can add an item when you create it by simply writing it into your dictionary, or you can add it with a library function. Try using the library function. Use the `update()` function to add the key and value for nickel, like the example below. <br>`monday_rocks.update({‘nickel’: 3})`"
      ]
    },
    {
      "cell_type": "code",
      "metadata": {
        "id": "vXQrF22gzuuj",
        "colab": {
          "base_uri": "https://localhost:8080/"
        },
        "outputId": "dd069036-0833-4efb-bd93-0dba95f55961"
      },
      "source": [
        "# Update the monday_rocks with the the new rock 'nickel' and it's amount, '3'\n",
        "monday_rocks.update({'nickel': 3})\n",
        "print(monday_rocks)\n"
      ],
      "execution_count": null,
      "outputs": [
        {
          "output_type": "stream",
          "name": "stdout",
          "text": [
            "{'nickel': 3}\n"
          ]
        }
      ]
    },
    {
      "cell_type": "markdown",
      "metadata": {
        "id": "75ywr8aS0JrQ"
      },
      "source": [
        "3. Run your code so far to see what you have by clicking the run button. You’ll see a dictionary with one key/value pair added. <br><img src='https://drive.google.com/uc?id=1PPEbps-qUZgNAxTfED__T7uXdX2cj1LS' width=400 align=none><br>\n",
        "\n",
        "4. Now let’s add all the other rocks and corresponding numbers to our dictionary. You can add them all in a single `update()` function if you want, like the code below (but replace all `rock` and number `1` with the rock names and numbers from the T-shirt):<br>\n",
        "`monday_rocks.update({‘rock1’:1, ‘rock2’:1})`"
      ]
    },
    {
      "cell_type": "code",
      "metadata": {
        "id": "st35eAJB3su9"
      },
      "source": [
        "# Update your dictionary with all remaining rocks\n",
        "monday_rocks.update({'olivine': 9,'feldspar':5, 'graphite-diamond':3, 'iron':19, 'serpentine':12})\n"
      ],
      "execution_count": null,
      "outputs": []
    },
    {
      "cell_type": "markdown",
      "metadata": {
        "id": "1Rdb-TQW3nZO"
      },
      "source": [
        "There should be six key/value pairs total in your dictionary. Add another print statement to your code to print monday_rocks and then **run** the code block again. It should look similar to this:\n",
        "<img src='https://drive.google.com/uc?id=1PSIDyrCnXtDsjPhmIaTFS8Kdq39TDFST' width=800 align=none>"
      ]
    },
    {
      "cell_type": "markdown",
      "metadata": {
        "id": "Xu9H6zLO4rvh"
      },
      "source": [
        "### Update the Rock Catalog (JSON file)\n",
        "\n",
        "Since you are only creating data for Monday in this dictionary, you will need to update the existing database (the JSON file called asteroid_minerals.json) with the new numbers and the date you are updating the file. Today’s date is 5/21/2167. This is a date format that Python will recognize. Let’s update the number of rocks collected and the date in the JSON file.\n",
        "\n",
        "The Python script is below, but read through the comments in the script to understand what the script is doing. \n",
        "\n",
        "You must also add your dictionary code to this script. If you had created the dictionary directly with your new rocks found, it would look different than how we added rocks with our `update() `function. Go ahead and add the dictionary with the new rocks already in it to line 10. It should look like this: <br> `monday_rocks = {'nickel': 3, 'olivine': 9, 'feldspar': 5, 'graphite-diamond': 3, 'iron': 19, 'serpentine': 12}`"
      ]
    },
    {
      "cell_type": "code",
      "metadata": {
        "id": "Dgy7Nq2h5mAX"
      },
      "source": [
        "# Import the JSON library\n",
        "import json \n",
        "\n",
        "# JSON file keys needed to update these key’s values later\n",
        "number_key = 'numberInInventory'\n",
        "date_key = 'lastUpdated'\n",
        "date = '5/21/2167'\n",
        "\n",
        "# ADD YOUR DICTIONARY CODE HERE (line 10)\n",
        "\n",
        "\n",
        "# Open JSON file to read it\n",
        "with open ('asteroid_minerals.json',) as json_file:\n",
        "    data = json.load(json_file)\n",
        "    # Loop through items to find the mineral key of each item\n",
        "    # An \"item\" is each of the JSON files dictionaries\n",
        "    for item in data['meteorites']:\n",
        "        # Look for a match with minerals in monday_rocks\n",
        "        for key in item.keys():\n",
        "            if item[key] == 'nickel':\n",
        "                # Update the number of rocks in inventory\n",
        "                item[number_key] = item[number_key] + monday_rocks['nickel']\n",
        "                # Update the date\n",
        "                item[date_key] = date\n",
        "            if item[key] == 'olivine':\n",
        "                # Update the number of rocks in inventory\n",
        "                item[number_key] = item[number_key] + monday_rocks['olivine']\n",
        "                # Update the date\n",
        "                item[date_key] = date\n",
        "            if item[key] == 'feldspar':\n",
        "                # Update the number of rocks in inventory\n",
        "                item[number_key] = item[number_key] + monday_rocks['feldspar']\n",
        "                # Update the date\n",
        "                item[date_key] = date\n",
        "            if item[key] == 'graphite-diamond':\n",
        "                # Update the number of rocks in inventory\n",
        "                item[number_key] = item[number_key] + monday_rocks['graphite-diamond']\n",
        "                # Update the date\n",
        "                item[date_key] = date\n",
        "            if item[key] == 'iron':\n",
        "                # Update the number of rocks in inventory\n",
        "                item[number_key] = item[number_key] + monday_rocks['iron']\n",
        "                # Update the date\n",
        "                item[date_key] = date\n",
        "            if item[key] == 'serpentine':\n",
        "                # Update the number of rocks in inventory\n",
        "                item[number_key] = item[number_key] + monday_rocks['serpentine']\n",
        "                # Update the date\n",
        "                item[date_key] = date\n",
        "\n",
        "# After the JSON file is updated, we convert it to a JSON object\n",
        "json_obj = json.dumps(data, indent = 4)\n",
        "  \n",
        "# Now you can write it to asteroid_minerals.json\n",
        "with open(\"asteroid_minerals.json\", \"w\") as outfile:\n",
        "    outfile.write(json_obj)\n"
      ],
      "execution_count": null,
      "outputs": []
    },
    {
      "cell_type": "markdown",
      "metadata": {
        "id": "ONdl_3Fl71hh"
      },
      "source": [
        "5. Before we can run our code block, we have to make sure the original JSON file (our database of existing rocks) is uploaded to Google Colab. On the left-hand side of your notebook, click on the folder icon, then the upload file icon and navigate your file system to choose the `asteroid_minerals.json` file. It will upload this file to your Colab workspace.<br><br><img src='https://drive.google.com/uc?id=1PWoisVwnLKPbqLwO70CH_OPO2UjbM374' width=500 align=none>\n",
        "\n",
        "6. Now let’s update our JSON database! Click the **run** button in your notebook. You won’t see anything happen, but if you double-click the astertoid_minerals.json file in your Google Colab Files section, the file will open to the right of your notebook. Open it and see that the data for nickel has updated values for `numberInInventory` and `lastUpdated`! If you look at the `asteroid_minerals_original.json` file to compare, you can see what the old number and date were."
      ]
    },
    {
      "cell_type": "markdown",
      "metadata": {
        "id": "yfeY7GFo-t3M"
      },
      "source": [
        "### Congratulations! Save Your Work\n",
        "\n",
        "7. Now that you have a complete script in your notebook, give your notebook a name, such as `update_minerals.ipynb`. Then go to `File -> Download -> Download .ipynb` to export this script to your desktop.<br><br><img src='https://drive.google.com/uc?id=1PXB_ZooJPq3xGc67nUsOCG_2-djNtwKc' width=500 align=none>\n"
      ]
    },
    {
      "cell_type": "markdown",
      "metadata": {
        "id": "Bl8WXRBI_kkZ"
      },
      "source": [
        "### Reflect\n",
        "\n",
        "1. Look at the JSON file’s structure. What data structures do you see? JSON is made of [nested data structures](https://www.w3resource.com/JSON/structures.php). Double-click the spaces below to write your answer.\n",
        "\n",
        "Answer here:\n",
        "...\n",
        "\n",
        "2. In the code, you used a function (built-in) on your data structures to get a list of keys that looks like this `item.keys()`. What is the variable (called `item`) and function (called `keys()`) used for in your code?\n",
        "\n",
        "Answer here:\n",
        "...\n",
        "<br><br>\n",
        "### Real-world Application\n",
        "In the real world, your code would be different than this script. You could not include things like [hard-coded strings](https://www.quora.com/What-is-hard-coded-string?share=1). But let’s think about why this is so. \n",
        "\n",
        "Here's an example of a hard-coded string. The word \"nickel\" is written in several places throughout the script.\n",
        "\n",
        "<img src='https://drive.google.com/uc?id=1PZ_zpS0eIvMPHtMyXFZgq8nX4BcTYtaR' width=500 align=none>\n",
        "\n",
        "What if you had to make a change to your `monday_rocks` dataset. Your gang decided you don’t want to collect nickel anymore, so you’d want to remove the word nickel from your script and database altogether. If your script was very large (hundreds of lines of code), how easy would it be to change your script? \n",
        "\n",
        "Not so easy. You'd have to hunt for every place you saw the word nickel mentioned. Instead of adding the word nickel directly into the code, we should have made it into a variable at the top of our code, so we could change it easily if needed. We learned about this kind of variable. It's called a *global* variable. Ideally, we'd put the variable with our other global variables at the top of our script, like this:\n",
        "\n",
        "```\n",
        "number_key = 'numberInInventory'\n",
        "date_key = 'lastUpdated'\n",
        "date = '5/21/2167'\n",
        "metal1 = 'nickel'\n",
        "```\n",
        "\n",
        "With a global variable like this at the top of our script, we can easily change the metal to something else or set it to `null` to be a string with no value. The variable name `metal1` would be the one in our script in many places, instead of the word `nickel`.\n",
        "\n",
        "For learning purposes, it’s nice to have smaller samples, but to start thinking like a Python programmer, you have to think big! You’ll learn more about scale issues later in this course."
      ]
    },
    {
      "cell_type": "code",
      "metadata": {
        "id": "2Rd5782rAAM5"
      },
      "source": [],
      "execution_count": null,
      "outputs": []
    }
  ]
}